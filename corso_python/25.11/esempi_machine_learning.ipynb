{
 "cells": [
  {
   "cell_type": "code",
   "execution_count": 2,
   "metadata": {},
   "outputs": [
    {
     "name": "stdout",
     "output_type": "stream",
     "text": [
      "Accuratezza del modello: 1.00\n"
     ]
    }
   ],
   "source": [
    "# Importare le librerie necessarie\n",
    "from sklearn.datasets import load_iris\n",
    "from sklearn.model_selection import train_test_split\n",
    "from sklearn.neighbors import KNeighborsClassifier\n",
    "from sklearn.metrics import accuracy_score\n",
    "\n",
    "# Caricare il dataset Iris\n",
    "iris = load_iris()\n",
    "X = iris.data  # Caratteristiche (lunghezza e larghezza di sepali e petali)\n",
    "y = iris.target  # Etichette (specie di Iris)\n",
    "\n",
    "# Suddividere il dataset in set di training e test\n",
    "X_train, X_test, y_train, y_test = train_test_split(X, y, test_size=0.2, random_state=42)\n",
    "\n",
    "# Definire il modello: K-Nearest Neighbors Classifier\n",
    "model = KNeighborsClassifier(n_neighbors=3)\n",
    "\n",
    "# Addestrare il modello sui dati di training\n",
    "model.fit(X_train, y_train)\n",
    "\n",
    "# Fare predizioni sui dati di test\n",
    "y_pred = model.predict(X_test)\n",
    "\n",
    "# Valutare le prestazioni del modello\n",
    "accuracy = accuracy_score(y_test, y_pred)\n",
    "print(f\"Accuratezza del modello: {accuracy:.2f}\")"
   ]
  },
  {
   "cell_type": "code",
   "execution_count": 6,
   "metadata": {},
   "outputs": [
    {
     "data": {
      "text/plain": [
       "array(['setosa', 'versicolor', 'virginica'], dtype='<U10')"
      ]
     },
     "execution_count": 6,
     "metadata": {},
     "output_type": "execute_result"
    }
   ],
   "source": [
    "iris[\"target_names\"]"
   ]
  },
  {
   "cell_type": "code",
   "execution_count": 24,
   "metadata": {},
   "outputs": [
    {
     "name": "stdout",
     "output_type": "stream",
     "text": [
      "Accuratezza del modello: 0.89\n"
     ]
    }
   ],
   "source": [
    "from sklearn.datasets import load_wine\n",
    "from sklearn.model_selection import train_test_split\n",
    "from sklearn.neighbors import KNeighborsClassifier\n",
    "from sklearn.metrics import accuracy_score\n",
    "\n",
    "# Caricare il dataset Iris\n",
    "wine = load_wine()\n",
    "X1 = wine.data  # Caratteristiche (lunghezza e larghezza di sepali e petali)\n",
    "y1 = wine.target  # Etichette (specie di Iris)\n",
    "\n",
    "# Suddividere il dataset in set di training e test\n",
    "X1_train, X1_test, y1_train, y1_test = train_test_split(X1, y1, test_size=0.05, random_state=42)\n",
    "\n",
    "# Definire il modello: K-Nearest Neighbors Classifier\n",
    "model1 = KNeighborsClassifier(n_neighbors=3)\n",
    "\n",
    "# Addestrare il modello sui dati di training\n",
    "model1.fit(X1_train, y1_train)\n",
    "\n",
    "# Fare predizioni sui dati di test\n",
    "y1_pred = model1.predict(X1_test)\n",
    "\n",
    "# Valutare le prestazioni del modello\n",
    "accuracy1 = accuracy_score(y1_test, y1_pred)\n",
    "print(f\"Accuratezza del modello: {accuracy1:.2f}\")\n"
   ]
  },
  {
   "cell_type": "code",
   "execution_count": null,
   "metadata": {},
   "outputs": [],
   "source": []
  }
 ],
 "metadata": {
  "kernelspec": {
   "display_name": "Python 3",
   "language": "python",
   "name": "python3"
  },
  "language_info": {
   "codemirror_mode": {
    "name": "ipython",
    "version": 3
   },
   "file_extension": ".py",
   "mimetype": "text/x-python",
   "name": "python",
   "nbconvert_exporter": "python",
   "pygments_lexer": "ipython3",
   "version": "3.13.0"
  }
 },
 "nbformat": 4,
 "nbformat_minor": 2
}
