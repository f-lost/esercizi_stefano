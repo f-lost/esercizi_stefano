{
 "cells": [
  {
   "cell_type": "code",
   "execution_count": null,
   "metadata": {},
   "outputs": [
    {
     "data": {
      "text/html": [
       "<div>\n",
       "<style scoped>\n",
       "    .dataframe tbody tr th:only-of-type {\n",
       "        vertical-align: middle;\n",
       "    }\n",
       "\n",
       "    .dataframe tbody tr th {\n",
       "        vertical-align: top;\n",
       "    }\n",
       "\n",
       "    .dataframe thead th {\n",
       "        text-align: right;\n",
       "    }\n",
       "</style>\n",
       "<table border=\"1\" class=\"dataframe\">\n",
       "  <thead>\n",
       "    <tr style=\"text-align: right;\">\n",
       "      <th></th>\n",
       "      <th>0</th>\n",
       "      <th>1</th>\n",
       "      <th>2</th>\n",
       "      <th>3</th>\n",
       "    </tr>\n",
       "  </thead>\n",
       "  <tbody>\n",
       "    <tr>\n",
       "      <th>0</th>\n",
       "      <td>francesco</td>\n",
       "      <td>31</td>\n",
       "      <td>napoli</td>\n",
       "      <td>2427</td>\n",
       "    </tr>\n",
       "    <tr>\n",
       "      <th>1</th>\n",
       "      <td>bob</td>\n",
       "      <td>52</td>\n",
       "      <td>firenze</td>\n",
       "      <td>2166</td>\n",
       "    </tr>\n",
       "    <tr>\n",
       "      <th>2</th>\n",
       "      <td>carlo</td>\n",
       "      <td>46</td>\n",
       "      <td>firenze</td>\n",
       "      <td>1526</td>\n",
       "    </tr>\n",
       "    <tr>\n",
       "      <th>3</th>\n",
       "      <td>carlo</td>\n",
       "      <td>31</td>\n",
       "      <td>roma</td>\n",
       "      <td>1630</td>\n",
       "    </tr>\n",
       "    <tr>\n",
       "      <th>4</th>\n",
       "      <td>carlo</td>\n",
       "      <td>22</td>\n",
       "      <td>torino</td>\n",
       "      <td>1164</td>\n",
       "    </tr>\n",
       "    <tr>\n",
       "      <th>5</th>\n",
       "      <td>carlo</td>\n",
       "      <td>47</td>\n",
       "      <td>napoli</td>\n",
       "      <td>2771</td>\n",
       "    </tr>\n",
       "  </tbody>\n",
       "</table>\n",
       "</div>"
      ],
      "text/plain": [
       "           0   1        2     3\n",
       "0  francesco  31   napoli  2427\n",
       "1        bob  52  firenze  2166\n",
       "2      carlo  46  firenze  1526\n",
       "3      carlo  31     roma  1630\n",
       "4      carlo  22   torino  1164\n",
       "5      carlo  47   napoli  2771"
      ]
     },
     "execution_count": 6,
     "metadata": {},
     "output_type": "execute_result"
    }
   ],
   "source": [
    "import numpy as np\n",
    "import pandas as pd\n",
    "\n",
    "nomi = [\"alice\",\"bob\",\"carlo\",\"daniele\",\"ernesto\",\"francesco\"]\n",
    "città = [\"napoli\", \"roma\", \"milano\", \"torino\", \"firenze\", \"palermo\"]\n",
    "\n",
    "data = []\n",
    "\n",
    "for i in range(len(nomi)):\n",
    "\n",
    "    data.append([np.random.choice(nomi),np.random.randint(18,60),np.random.choice(città),np.random.randint(1000, 3000)])\n",
    "\n",
    "df = pd.DataFrame(data)\n",
    "\n",
    "df"
   ]
  },
  {
   "cell_type": "code",
   "execution_count": 9,
   "metadata": {},
   "outputs": [
    {
     "data": {
      "text/html": [
       "<div>\n",
       "<style scoped>\n",
       "    .dataframe tbody tr th:only-of-type {\n",
       "        vertical-align: middle;\n",
       "    }\n",
       "\n",
       "    .dataframe tbody tr th {\n",
       "        vertical-align: top;\n",
       "    }\n",
       "\n",
       "    .dataframe thead th {\n",
       "        text-align: right;\n",
       "    }\n",
       "</style>\n",
       "<table border=\"1\" class=\"dataframe\">\n",
       "  <thead>\n",
       "    <tr style=\"text-align: right;\">\n",
       "      <th></th>\n",
       "      <th>Prodotto</th>\n",
       "      <th>Quantità</th>\n",
       "      <th>Prezzo Unitario</th>\n",
       "      <th>Città</th>\n",
       "    </tr>\n",
       "  </thead>\n",
       "  <tbody>\n",
       "    <tr>\n",
       "      <th>0</th>\n",
       "      <td>banane</td>\n",
       "      <td>26197</td>\n",
       "      <td>1</td>\n",
       "      <td>firenze</td>\n",
       "    </tr>\n",
       "    <tr>\n",
       "      <th>1</th>\n",
       "      <td>pane</td>\n",
       "      <td>17462</td>\n",
       "      <td>2</td>\n",
       "      <td>palermo</td>\n",
       "    </tr>\n",
       "    <tr>\n",
       "      <th>2</th>\n",
       "      <td>mele</td>\n",
       "      <td>24291</td>\n",
       "      <td>2</td>\n",
       "      <td>firenze</td>\n",
       "    </tr>\n",
       "    <tr>\n",
       "      <th>3</th>\n",
       "      <td>olio</td>\n",
       "      <td>26364</td>\n",
       "      <td>3</td>\n",
       "      <td>milano</td>\n",
       "    </tr>\n",
       "    <tr>\n",
       "      <th>4</th>\n",
       "      <td>olio</td>\n",
       "      <td>30162</td>\n",
       "      <td>2</td>\n",
       "      <td>palermo</td>\n",
       "    </tr>\n",
       "    <tr>\n",
       "      <th>5</th>\n",
       "      <td>pane</td>\n",
       "      <td>49669</td>\n",
       "      <td>1</td>\n",
       "      <td>palermo</td>\n",
       "    </tr>\n",
       "  </tbody>\n",
       "</table>\n",
       "</div>"
      ],
      "text/plain": [
       "  Prodotto  Quantità  Prezzo Unitario    Città\n",
       "0   banane     26197                1  firenze\n",
       "1     pane     17462                2  palermo\n",
       "2     mele     24291                2  firenze\n",
       "3     olio     26364                3   milano\n",
       "4     olio     30162                2  palermo\n",
       "5     pane     49669                1  palermo"
      ]
     },
     "execution_count": 9,
     "metadata": {},
     "output_type": "execute_result"
    }
   ],
   "source": [
    "import numpy as np\n",
    "import pandas as pd\n",
    "\n",
    "prodotti = [\"pane\",\"olio\",\"pasta\",\"banane\",\"mele\",\"formaggio\"]\n",
    "città = [\"napoli\", \"roma\", \"milano\", \"torino\", \"firenze\", \"palermo\"]\n",
    "\n",
    "data = []\n",
    "\n",
    "for i in range(len(nomi)):\n",
    "\n",
    "    data.append([np.random.choice(prodotti),np.random.randint(10000,50000),np.random.randint(1,4),np.random.choice(città)])\n",
    "\n",
    "df = pd.DataFrame(data, columns = [\"Prodotto\", \"Quantità\",\"Prezzo Unitario\",\"Città\"])\n",
    "\n",
    "df"
   ]
  },
  {
   "cell_type": "code",
   "execution_count": 11,
   "metadata": {},
   "outputs": [
    {
     "data": {
      "text/html": [
       "<div>\n",
       "<style scoped>\n",
       "    .dataframe tbody tr th:only-of-type {\n",
       "        vertical-align: middle;\n",
       "    }\n",
       "\n",
       "    .dataframe tbody tr th {\n",
       "        vertical-align: top;\n",
       "    }\n",
       "\n",
       "    .dataframe thead th {\n",
       "        text-align: right;\n",
       "    }\n",
       "</style>\n",
       "<table border=\"1\" class=\"dataframe\">\n",
       "  <thead>\n",
       "    <tr style=\"text-align: right;\">\n",
       "      <th></th>\n",
       "      <th>Prodotto</th>\n",
       "      <th>Quantità</th>\n",
       "      <th>Prezzo Unitario</th>\n",
       "      <th>Città</th>\n",
       "      <th>Totale Vendite</th>\n",
       "    </tr>\n",
       "  </thead>\n",
       "  <tbody>\n",
       "    <tr>\n",
       "      <th>0</th>\n",
       "      <td>banane</td>\n",
       "      <td>26197</td>\n",
       "      <td>1</td>\n",
       "      <td>firenze</td>\n",
       "      <td>26197</td>\n",
       "    </tr>\n",
       "    <tr>\n",
       "      <th>1</th>\n",
       "      <td>pane</td>\n",
       "      <td>17462</td>\n",
       "      <td>2</td>\n",
       "      <td>palermo</td>\n",
       "      <td>34924</td>\n",
       "    </tr>\n",
       "    <tr>\n",
       "      <th>2</th>\n",
       "      <td>mele</td>\n",
       "      <td>24291</td>\n",
       "      <td>2</td>\n",
       "      <td>firenze</td>\n",
       "      <td>48582</td>\n",
       "    </tr>\n",
       "    <tr>\n",
       "      <th>3</th>\n",
       "      <td>olio</td>\n",
       "      <td>26364</td>\n",
       "      <td>3</td>\n",
       "      <td>milano</td>\n",
       "      <td>79092</td>\n",
       "    </tr>\n",
       "    <tr>\n",
       "      <th>4</th>\n",
       "      <td>olio</td>\n",
       "      <td>30162</td>\n",
       "      <td>2</td>\n",
       "      <td>palermo</td>\n",
       "      <td>60324</td>\n",
       "    </tr>\n",
       "    <tr>\n",
       "      <th>5</th>\n",
       "      <td>pane</td>\n",
       "      <td>49669</td>\n",
       "      <td>1</td>\n",
       "      <td>palermo</td>\n",
       "      <td>49669</td>\n",
       "    </tr>\n",
       "  </tbody>\n",
       "</table>\n",
       "</div>"
      ],
      "text/plain": [
       "  Prodotto  Quantità  Prezzo Unitario    Città  Totale Vendite\n",
       "0   banane     26197                1  firenze           26197\n",
       "1     pane     17462                2  palermo           34924\n",
       "2     mele     24291                2  firenze           48582\n",
       "3     olio     26364                3   milano           79092\n",
       "4     olio     30162                2  palermo           60324\n",
       "5     pane     49669                1  palermo           49669"
      ]
     },
     "execution_count": 11,
     "metadata": {},
     "output_type": "execute_result"
    }
   ],
   "source": [
    "df[\"Totale Vendite\"] = df[\"Quantità\"]*df[\"Prezzo Unitario\"]\n",
    "\n",
    "df"
   ]
  },
  {
   "cell_type": "code",
   "execution_count": 45,
   "metadata": {},
   "outputs": [
    {
     "data": {
      "text/plain": [
       "Prodotto\n",
       "banane     26197\n",
       "mele       48582\n",
       "olio      139416\n",
       "pane       84593\n",
       "Name: Totale Vendite, dtype: int64"
      ]
     },
     "execution_count": 45,
     "metadata": {},
     "output_type": "execute_result"
    }
   ],
   "source": [
    "df.groupby(\"Prodotto\")[\"Totale Vendite\"].sum()\n"
   ]
  },
  {
   "cell_type": "code",
   "execution_count": 19,
   "metadata": {},
   "outputs": [
    {
     "data": {
      "text/plain": [
       "np.int64(49669)"
      ]
     },
     "execution_count": 19,
     "metadata": {},
     "output_type": "execute_result"
    }
   ],
   "source": [
    "df.idxmax()\n",
    "\n",
    "massimo_quantità = df[\"Quantità\"].max()\n",
    "\n",
    "massimo_quantità"
   ]
  },
  {
   "cell_type": "code",
   "execution_count": null,
   "metadata": {},
   "outputs": [],
   "source": []
  },
  {
   "cell_type": "code",
   "execution_count": 34,
   "metadata": {},
   "outputs": [
    {
     "name": "stdout",
     "output_type": "stream",
     "text": [
      "  Prodotto  Quantità  Prezzo Unitario    Città  Totale Vendite\n",
      "1     pane     17462                2  palermo           34924\n",
      "2     mele     24291                2  firenze           48582\n",
      "3     olio     26364                3   milano           79092\n",
      "4     olio     30162                2  palermo           60324\n",
      "5     pane     49669                1  palermo           49669\n"
     ]
    }
   ],
   "source": [
    "df1 = df[df[\"Totale Vendite\"] > 30000]\n",
    "\n",
    "print(df1)"
   ]
  },
  {
   "cell_type": "code",
   "execution_count": 36,
   "metadata": {},
   "outputs": [
    {
     "name": "stdout",
     "output_type": "stream",
     "text": [
      "  Prodotto  Quantità  Prezzo Unitario    Città  Totale Vendite\n",
      "3     olio     26364                3   milano           79092\n",
      "4     olio     30162                2  palermo           60324\n",
      "5     pane     49669                1  palermo           49669\n",
      "2     mele     24291                2  firenze           48582\n",
      "1     pane     17462                2  palermo           34924\n",
      "0   banane     26197                1  firenze           26197\n"
     ]
    }
   ],
   "source": [
    "df_ordinato = df.sort_values(by='Totale Vendite', ascending=False)\n",
    "\n",
    "print(df_ordinato)"
   ]
  },
  {
   "cell_type": "code",
   "execution_count": 37,
   "metadata": {},
   "outputs": [
    {
     "data": {
      "text/plain": [
       "Città\n",
       "firenze     74779\n",
       "milano      79092\n",
       "palermo    144917\n",
       "Name: Totale Vendite, dtype: int64"
      ]
     },
     "execution_count": 37,
     "metadata": {},
     "output_type": "execute_result"
    }
   ],
   "source": [
    "vendite_per_città = df.groupby('Città')['Totale Vendite'].sum()\n",
    "\n",
    "vendite_per_città"
   ]
  },
  {
   "cell_type": "code",
   "execution_count": 38,
   "metadata": {},
   "outputs": [
    {
     "name": "stdout",
     "output_type": "stream",
     "text": [
      "palermo\n",
      "------\n",
      "144917\n"
     ]
    }
   ],
   "source": [
    "città_max = vendite_per_città.idxmax()\n",
    "vendite_max = vendite_per_città.max()\n",
    "\n",
    "print(città_max)\n",
    "print(\"------\")\n",
    "print(vendite_max)"
   ]
  }
 ],
 "metadata": {
  "kernelspec": {
   "display_name": "Python 3",
   "language": "python",
   "name": "python3"
  },
  "language_info": {
   "codemirror_mode": {
    "name": "ipython",
    "version": 3
   },
   "file_extension": ".py",
   "mimetype": "text/x-python",
   "name": "python",
   "nbconvert_exporter": "python",
   "pygments_lexer": "ipython3",
   "version": "3.13.0"
  }
 },
 "nbformat": 4,
 "nbformat_minor": 2
}
