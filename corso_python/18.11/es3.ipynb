{
 "cells": [
  {
   "cell_type": "code",
   "execution_count": 12,
   "metadata": {},
   "outputs": [
    {
     "name": "stdout",
     "output_type": "stream",
     "text": [
      "    Student  Subject  Score\n",
      "0     Alice     Math     85\n",
      "1       Bob     Math     90\n",
      "2   Charlie     Math     95\n",
      "3     Alice  Science     80\n",
      "4       Bob  Science     70\n",
      "5   Charlie  Science     75\n",
      "6     Alice  English     88\n",
      "7       Bob  English     92\n",
      "8   Charlie  English     85\n",
      "9     Alice     Math     88\n",
      "10      Bob     Math     85\n",
      "11  Charlie     Math     77\n",
      "12    Alice  English     78\n",
      "13      Bob  English     89\n",
      "14  Charlie  English     84\n",
      "15    Alice  Science     79\n",
      "16      Bob  Science     87\n",
      "17  Charlie  Science     88\n"
     ]
    }
   ],
   "source": [
    "import numpy as np\n",
    "import pandas as pd\n",
    "\n",
    "data = {\n",
    "'Student': ['Alice', 'Bob', 'Charlie', 'Alice', 'Bob', 'Charlie', 'Alice', 'Bob', 'Charlie','Alice', 'Bob', 'Charlie','Alice', 'Bob', 'Charlie','Alice', 'Bob', 'Charlie'],\n",
    "'Subject': ['Math', 'Math', 'Math', 'Science', 'Science', 'Science', 'English', 'English', 'English','Math', 'Math', 'Math','English', 'English', 'English','Science', 'Science', 'Science'],\n",
    "'Score': [85, 90, 95, 80, 70, 75, 88, 92, 85, 88, 85, 77, 78, 89, 84, 79, 87, 88]\n",
    "}\n",
    "df = pd.DataFrame(data)\n",
    "print(df)"
   ]
  },
  {
   "cell_type": "code",
   "execution_count": 13,
   "metadata": {},
   "outputs": [
    {
     "data": {
      "text/plain": [
       "Subject\n",
       "English    86.000000\n",
       "Math       86.666667\n",
       "Science    79.833333\n",
       "Name: Score, dtype: float64"
      ]
     },
     "execution_count": 13,
     "metadata": {},
     "output_type": "execute_result"
    }
   ],
   "source": [
    "df.groupby(\"Subject\")[\"Score\"].mean()"
   ]
  },
  {
   "cell_type": "code",
   "execution_count": 14,
   "metadata": {},
   "outputs": [
    {
     "data": {
      "text/plain": [
       "Student\n",
       "Alice      83.0\n",
       "Bob        85.5\n",
       "Charlie    84.0\n",
       "Name: Score, dtype: float64"
      ]
     },
     "execution_count": 14,
     "metadata": {},
     "output_type": "execute_result"
    }
   ],
   "source": [
    "df.groupby(\"Student\")[\"Score\"].mean()"
   ]
  },
  {
   "cell_type": "code",
   "execution_count": 19,
   "metadata": {},
   "outputs": [
    {
     "data": {
      "text/plain": [
       "Student  Subject\n",
       "Alice    English    83.0\n",
       "         Math       86.5\n",
       "         Science    79.5\n",
       "Bob      English    90.5\n",
       "         Math       87.5\n",
       "         Science    78.5\n",
       "Charlie  English    84.5\n",
       "         Math       86.0\n",
       "         Science    81.5\n",
       "Name: Score, dtype: float64"
      ]
     },
     "execution_count": 19,
     "metadata": {},
     "output_type": "execute_result"
    }
   ],
   "source": [
    "df.groupby([\"Student\",\"Subject\"])[\"Score\"].mean()"
   ]
  }
 ],
 "metadata": {
  "kernelspec": {
   "display_name": "Python 3",
   "language": "python",
   "name": "python3"
  },
  "language_info": {
   "codemirror_mode": {
    "name": "ipython",
    "version": 3
   },
   "file_extension": ".py",
   "mimetype": "text/x-python",
   "name": "python",
   "nbconvert_exporter": "python",
   "pygments_lexer": "ipython3",
   "version": "3.13.0"
  }
 },
 "nbformat": 4,
 "nbformat_minor": 2
}
