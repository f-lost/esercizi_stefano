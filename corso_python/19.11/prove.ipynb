{
 "cells": [
  {
   "cell_type": "code",
   "execution_count": 58,
   "metadata": {},
   "outputs": [
    {
     "name": "stdout",
     "output_type": "stream",
     "text": [
      "df1\n",
      "   key  value1\n",
      "0   A       1\n",
      "1   B       2\n",
      "2   C       3\n",
      "df2\n",
      "   key  value2\n",
      "0   A       4\n",
      "1   B       5\n",
      "2   D       6\n"
     ]
    }
   ],
   "source": [
    "import pandas as pd\n",
    "import numpy as np\n",
    "\n",
    "df1 = pd.DataFrame({\n",
    "'key': ['A', 'B', 'C'],\n",
    "'value1': [1, 2, 3]\n",
    "})\n",
    "\n",
    "df2 = pd.DataFrame({\n",
    "'key': ['A', 'B', 'D'],\n",
    "'value2': [4, 5, 6]\n",
    "})\n",
    "\n",
    "print(\"df1\\n\",df1)\n",
    "print(\"df2\\n\",df2)"
   ]
  },
  {
   "cell_type": "code",
   "execution_count": 59,
   "metadata": {},
   "outputs": [
    {
     "data": {
      "text/html": [
       "<div>\n",
       "<style scoped>\n",
       "    .dataframe tbody tr th:only-of-type {\n",
       "        vertical-align: middle;\n",
       "    }\n",
       "\n",
       "    .dataframe tbody tr th {\n",
       "        vertical-align: top;\n",
       "    }\n",
       "\n",
       "    .dataframe thead th {\n",
       "        text-align: right;\n",
       "    }\n",
       "</style>\n",
       "<table border=\"1\" class=\"dataframe\">\n",
       "  <thead>\n",
       "    <tr style=\"text-align: right;\">\n",
       "      <th></th>\n",
       "      <th>key</th>\n",
       "      <th>value1</th>\n",
       "      <th>value2</th>\n",
       "    </tr>\n",
       "  </thead>\n",
       "  <tbody>\n",
       "    <tr>\n",
       "      <th>0</th>\n",
       "      <td>A</td>\n",
       "      <td>1</td>\n",
       "      <td>4</td>\n",
       "    </tr>\n",
       "    <tr>\n",
       "      <th>1</th>\n",
       "      <td>B</td>\n",
       "      <td>2</td>\n",
       "      <td>5</td>\n",
       "    </tr>\n",
       "  </tbody>\n",
       "</table>\n",
       "</div>"
      ],
      "text/plain": [
       "  key  value1  value2\n",
       "0   A       1       4\n",
       "1   B       2       5"
      ]
     },
     "execution_count": 59,
     "metadata": {},
     "output_type": "execute_result"
    }
   ],
   "source": [
    "pd.merge(df1,df2, on = \"key\")"
   ]
  },
  {
   "cell_type": "code",
   "execution_count": 60,
   "metadata": {},
   "outputs": [
    {
     "data": {
      "text/html": [
       "<div>\n",
       "<style scoped>\n",
       "    .dataframe tbody tr th:only-of-type {\n",
       "        vertical-align: middle;\n",
       "    }\n",
       "\n",
       "    .dataframe tbody tr th {\n",
       "        vertical-align: top;\n",
       "    }\n",
       "\n",
       "    .dataframe thead th {\n",
       "        text-align: right;\n",
       "    }\n",
       "</style>\n",
       "<table border=\"1\" class=\"dataframe\">\n",
       "  <thead>\n",
       "    <tr style=\"text-align: right;\">\n",
       "      <th></th>\n",
       "      <th>key</th>\n",
       "      <th>value1</th>\n",
       "      <th>value2</th>\n",
       "    </tr>\n",
       "  </thead>\n",
       "  <tbody>\n",
       "    <tr>\n",
       "      <th>0</th>\n",
       "      <td>A</td>\n",
       "      <td>1.0</td>\n",
       "      <td>4.0</td>\n",
       "    </tr>\n",
       "    <tr>\n",
       "      <th>1</th>\n",
       "      <td>B</td>\n",
       "      <td>2.0</td>\n",
       "      <td>5.0</td>\n",
       "    </tr>\n",
       "    <tr>\n",
       "      <th>2</th>\n",
       "      <td>C</td>\n",
       "      <td>3.0</td>\n",
       "      <td>NaN</td>\n",
       "    </tr>\n",
       "    <tr>\n",
       "      <th>3</th>\n",
       "      <td>D</td>\n",
       "      <td>NaN</td>\n",
       "      <td>6.0</td>\n",
       "    </tr>\n",
       "  </tbody>\n",
       "</table>\n",
       "</div>"
      ],
      "text/plain": [
       "  key  value1  value2\n",
       "0   A     1.0     4.0\n",
       "1   B     2.0     5.0\n",
       "2   C     3.0     NaN\n",
       "3   D     NaN     6.0"
      ]
     },
     "execution_count": 60,
     "metadata": {},
     "output_type": "execute_result"
    }
   ],
   "source": [
    "pd.merge(df1, df2, on = \"key\", how = \"outer\")"
   ]
  },
  {
   "cell_type": "code",
   "execution_count": 61,
   "metadata": {},
   "outputs": [
    {
     "name": "stdout",
     "output_type": "stream",
     "text": [
      "df1\n",
      "      A  B\n",
      "0  foo  1\n",
      "1  bar  2\n",
      "df2\n",
      "      A  B\n",
      "0  baz  3\n",
      "1  qux  4\n"
     ]
    }
   ],
   "source": [
    "df1 = pd.DataFrame({\n",
    "'A': ['foo', 'bar'],\n",
    "'B': [1, 2]\n",
    "})\n",
    "\n",
    "df2 = pd.DataFrame({\n",
    "'A': ['baz', 'qux'],\n",
    "'B': [3, 4]\n",
    "})\n",
    "\n",
    "print(\"df1\\n\",df1)\n",
    "print(\"df2\\n\",df2)"
   ]
  },
  {
   "cell_type": "code",
   "execution_count": 62,
   "metadata": {},
   "outputs": [
    {
     "data": {
      "text/html": [
       "<div>\n",
       "<style scoped>\n",
       "    .dataframe tbody tr th:only-of-type {\n",
       "        vertical-align: middle;\n",
       "    }\n",
       "\n",
       "    .dataframe tbody tr th {\n",
       "        vertical-align: top;\n",
       "    }\n",
       "\n",
       "    .dataframe thead th {\n",
       "        text-align: right;\n",
       "    }\n",
       "</style>\n",
       "<table border=\"1\" class=\"dataframe\">\n",
       "  <thead>\n",
       "    <tr style=\"text-align: right;\">\n",
       "      <th></th>\n",
       "      <th></th>\n",
       "      <th>A</th>\n",
       "      <th>B</th>\n",
       "    </tr>\n",
       "  </thead>\n",
       "  <tbody>\n",
       "    <tr>\n",
       "      <th rowspan=\"2\" valign=\"top\">A</th>\n",
       "      <th>0</th>\n",
       "      <td>foo</td>\n",
       "      <td>1</td>\n",
       "    </tr>\n",
       "    <tr>\n",
       "      <th>1</th>\n",
       "      <td>bar</td>\n",
       "      <td>2</td>\n",
       "    </tr>\n",
       "    <tr>\n",
       "      <th rowspan=\"2\" valign=\"top\">B</th>\n",
       "      <th>0</th>\n",
       "      <td>baz</td>\n",
       "      <td>3</td>\n",
       "    </tr>\n",
       "    <tr>\n",
       "      <th>1</th>\n",
       "      <td>qux</td>\n",
       "      <td>4</td>\n",
       "    </tr>\n",
       "  </tbody>\n",
       "</table>\n",
       "</div>"
      ],
      "text/plain": [
       "       A  B\n",
       "A 0  foo  1\n",
       "  1  bar  2\n",
       "B 0  baz  3\n",
       "  1  qux  4"
      ]
     },
     "execution_count": 62,
     "metadata": {},
     "output_type": "execute_result"
    }
   ],
   "source": [
    "pd.concat([df1,df2])\n",
    "\n",
    "pd.concat([df1,df2], ignore_index = False, keys=[\"A\",\"B\"])"
   ]
  },
  {
   "cell_type": "code",
   "execution_count": 63,
   "metadata": {},
   "outputs": [
    {
     "name": "stdout",
     "output_type": "stream",
     "text": [
      "df1\n",
      "   chiave1 chiave2   A\n",
      "0      K0      K0  A0\n",
      "1      K1      K1  A1\n",
      "2      K2      K0  A2 \n",
      "\n",
      "df2\n",
      "   chiave1 chiave2   B\n",
      "0      K0      K0  B0\n",
      "1      K1      K0  B1\n",
      "2      K3      K0  B3\n"
     ]
    }
   ],
   "source": [
    "#Unisci df1 e df2 sulle colonne 'chiave1' e 'chiave2' includendo tutte le righe di df1. Qual è il DataFrame risultante?\n",
    "\n",
    "df1 = pd.DataFrame({\n",
    "'chiave1': ['K0', 'K1', 'K2'],\n",
    "'chiave2': ['K0', 'K1', 'K0'],\n",
    "'A': ['A0', 'A1', 'A2']\n",
    "})\n",
    "\n",
    "df2 = pd.DataFrame({\n",
    "'chiave1': ['K0', 'K1', 'K3'],\n",
    "'chiave2': ['K0', 'K0', 'K0'],\n",
    "'B': ['B0', 'B1', 'B3']\n",
    "})\n",
    "\n",
    "print(\"df1\\n\",df1,\"\\n\")\n",
    "print(\"df2\\n\",df2)"
   ]
  },
  {
   "cell_type": "code",
   "execution_count": 64,
   "metadata": {},
   "outputs": [
    {
     "data": {
      "text/html": [
       "<div>\n",
       "<style scoped>\n",
       "    .dataframe tbody tr th:only-of-type {\n",
       "        vertical-align: middle;\n",
       "    }\n",
       "\n",
       "    .dataframe tbody tr th {\n",
       "        vertical-align: top;\n",
       "    }\n",
       "\n",
       "    .dataframe thead th {\n",
       "        text-align: right;\n",
       "    }\n",
       "</style>\n",
       "<table border=\"1\" class=\"dataframe\">\n",
       "  <thead>\n",
       "    <tr style=\"text-align: right;\">\n",
       "      <th></th>\n",
       "      <th>chiave1</th>\n",
       "      <th>chiave2</th>\n",
       "      <th>A</th>\n",
       "      <th>B</th>\n",
       "    </tr>\n",
       "  </thead>\n",
       "  <tbody>\n",
       "    <tr>\n",
       "      <th>0</th>\n",
       "      <td>K0</td>\n",
       "      <td>K0</td>\n",
       "      <td>A0</td>\n",
       "      <td>B0</td>\n",
       "    </tr>\n",
       "    <tr>\n",
       "      <th>1</th>\n",
       "      <td>K1</td>\n",
       "      <td>K1</td>\n",
       "      <td>A1</td>\n",
       "      <td>NaN</td>\n",
       "    </tr>\n",
       "    <tr>\n",
       "      <th>2</th>\n",
       "      <td>K2</td>\n",
       "      <td>K0</td>\n",
       "      <td>A2</td>\n",
       "      <td>NaN</td>\n",
       "    </tr>\n",
       "  </tbody>\n",
       "</table>\n",
       "</div>"
      ],
      "text/plain": [
       "  chiave1 chiave2   A    B\n",
       "0      K0      K0  A0   B0\n",
       "1      K1      K1  A1  NaN\n",
       "2      K2      K0  A2  NaN"
      ]
     },
     "execution_count": 64,
     "metadata": {},
     "output_type": "execute_result"
    }
   ],
   "source": [
    "pd.merge(df1,df2, on = [\"chiave1\", \"chiave2\"], how = \"left\")"
   ]
  },
  {
   "cell_type": "code",
   "execution_count": 65,
   "metadata": {},
   "outputs": [
    {
     "data": {
      "text/html": [
       "<div>\n",
       "<style scoped>\n",
       "    .dataframe tbody tr th:only-of-type {\n",
       "        vertical-align: middle;\n",
       "    }\n",
       "\n",
       "    .dataframe tbody tr th {\n",
       "        vertical-align: top;\n",
       "    }\n",
       "\n",
       "    .dataframe thead th {\n",
       "        text-align: right;\n",
       "    }\n",
       "</style>\n",
       "<table border=\"1\" class=\"dataframe\">\n",
       "  <thead>\n",
       "    <tr style=\"text-align: right;\">\n",
       "      <th></th>\n",
       "      <th>A</th>\n",
       "      <th>B</th>\n",
       "      <th>chiave1</th>\n",
       "      <th>chiave2</th>\n",
       "    </tr>\n",
       "  </thead>\n",
       "  <tbody>\n",
       "    <tr>\n",
       "      <th>0</th>\n",
       "      <td>A0</td>\n",
       "      <td>B0</td>\n",
       "      <td>K0</td>\n",
       "      <td>K0</td>\n",
       "    </tr>\n",
       "    <tr>\n",
       "      <th>1</th>\n",
       "      <td>A1</td>\n",
       "      <td>B1</td>\n",
       "      <td>K1</td>\n",
       "      <td>K1</td>\n",
       "    </tr>\n",
       "    <tr>\n",
       "      <th>2</th>\n",
       "      <td>A2</td>\n",
       "      <td>B3</td>\n",
       "      <td>K2</td>\n",
       "      <td>K0</td>\n",
       "    </tr>\n",
       "  </tbody>\n",
       "</table>\n",
       "</div>"
      ],
      "text/plain": [
       "    A   B chiave1 chiave2\n",
       "0  A0  B0      K0      K0\n",
       "1  A1  B1      K1      K1\n",
       "2  A2  B3      K2      K0"
      ]
     },
     "execution_count": 65,
     "metadata": {},
     "output_type": "execute_result"
    }
   ],
   "source": [
    "df1.combine_first(df2)"
   ]
  },
  {
   "cell_type": "code",
   "execution_count": 66,
   "metadata": {},
   "outputs": [
    {
     "name": "stdout",
     "output_type": "stream",
     "text": [
      "df1\n",
      "     A   B\n",
      "0  A0  B0\n",
      "1  A1  B1\n",
      "2  A2  B2 \n",
      "\n",
      "df2\n",
      "     C   D\n",
      "0  C0  D0\n",
      "2  C1  D1\n",
      "3  C2  D2\n"
     ]
    }
   ],
   "source": [
    "#Combina df1 e df2 affiancandoli, allineando gli indici.\n",
    "\n",
    "df1 = pd.DataFrame({\n",
    "'A': ['A0', 'A1', 'A2'],\n",
    "'B': ['B0', 'B1', 'B2']\n",
    "}, index=[0, 1, 2])\n",
    "\n",
    "df2 = pd.DataFrame({\n",
    "'C': ['C0', 'C1', 'C2'],\n",
    "'D': ['D0', 'D1', 'D2']\n",
    "}, index=[0, 2, 3])\n",
    "\n",
    "print(\"df1\\n\",df1,\"\\n\")\n",
    "print(\"df2\\n\",df2)"
   ]
  },
  {
   "cell_type": "code",
   "execution_count": 67,
   "metadata": {},
   "outputs": [
    {
     "data": {
      "text/html": [
       "<div>\n",
       "<style scoped>\n",
       "    .dataframe tbody tr th:only-of-type {\n",
       "        vertical-align: middle;\n",
       "    }\n",
       "\n",
       "    .dataframe tbody tr th {\n",
       "        vertical-align: top;\n",
       "    }\n",
       "\n",
       "    .dataframe thead th {\n",
       "        text-align: right;\n",
       "    }\n",
       "</style>\n",
       "<table border=\"1\" class=\"dataframe\">\n",
       "  <thead>\n",
       "    <tr style=\"text-align: right;\">\n",
       "      <th></th>\n",
       "      <th>A</th>\n",
       "      <th>B</th>\n",
       "      <th>C</th>\n",
       "      <th>D</th>\n",
       "    </tr>\n",
       "  </thead>\n",
       "  <tbody>\n",
       "    <tr>\n",
       "      <th>0</th>\n",
       "      <td>A0</td>\n",
       "      <td>B0</td>\n",
       "      <td>C0</td>\n",
       "      <td>D0</td>\n",
       "    </tr>\n",
       "    <tr>\n",
       "      <th>1</th>\n",
       "      <td>A1</td>\n",
       "      <td>B1</td>\n",
       "      <td>NaN</td>\n",
       "      <td>NaN</td>\n",
       "    </tr>\n",
       "    <tr>\n",
       "      <th>2</th>\n",
       "      <td>A2</td>\n",
       "      <td>B2</td>\n",
       "      <td>C1</td>\n",
       "      <td>D1</td>\n",
       "    </tr>\n",
       "    <tr>\n",
       "      <th>3</th>\n",
       "      <td>NaN</td>\n",
       "      <td>NaN</td>\n",
       "      <td>C2</td>\n",
       "      <td>D2</td>\n",
       "    </tr>\n",
       "  </tbody>\n",
       "</table>\n",
       "</div>"
      ],
      "text/plain": [
       "     A    B    C    D\n",
       "0   A0   B0   C0   D0\n",
       "1   A1   B1  NaN  NaN\n",
       "2   A2   B2   C1   D1\n",
       "3  NaN  NaN   C2   D2"
      ]
     },
     "execution_count": 67,
     "metadata": {},
     "output_type": "execute_result"
    }
   ],
   "source": [
    "pd.concat([df1,df2], axis = \"columns\", ignore_index = False)"
   ]
  },
  {
   "cell_type": "code",
   "execution_count": 68,
   "metadata": {},
   "outputs": [
    {
     "name": "stdout",
     "output_type": "stream",
     "text": [
      "df1\n",
      "   chiave   A\n",
      "0     K0  A0\n",
      "1     K1  A1\n",
      "2     K2  A2\n",
      "3     K3  A3 \n",
      "\n",
      "df2\n",
      "   chiave   B\n",
      "0     K0  B0\n",
      "1     K1  B1\n",
      "2     K2  B2 \n",
      "\n",
      "df3\n",
      "   chiave   C\n",
      "0     K1  C1\n",
      "1     K2  C2\n",
      "2     K4  C4\n"
     ]
    }
   ],
   "source": [
    "#Esercizio 1: Unisci prima df1 e df2 includendo solo le chiavi comuni.\n",
    "#Poi, unisci il risultato con df3 includendo tutte le chiavi di df3.\n",
    "\n",
    "df1 = pd.DataFrame({\n",
    "'chiave': ['K0', 'K1', 'K2', 'K3'],\n",
    "'A': ['A0', 'A1', 'A2', 'A3']\n",
    "})\n",
    "\n",
    "df2 = pd.DataFrame({\n",
    "'chiave': ['K0', 'K1', 'K2'],\n",
    "'B': ['B0', 'B1', 'B2']\n",
    "})\n",
    "\n",
    "df3 = pd.DataFrame({\n",
    "'chiave': ['K1', 'K2', 'K4'],\n",
    "'C': ['C1', 'C2', 'C4']\n",
    "})\n",
    "\n",
    "print(\"df1\\n\",df1,\"\\n\")\n",
    "print(\"df2\\n\",df2,\"\\n\")\n",
    "print(\"df3\\n\",df3)"
   ]
  },
  {
   "cell_type": "code",
   "execution_count": 69,
   "metadata": {},
   "outputs": [
    {
     "name": "stdout",
     "output_type": "stream",
     "text": [
      "Merge df1-df2:\n",
      "   chiave   A   B\n",
      "0     K0  A0  B0\n",
      "1     K1  A1  B1\n",
      "2     K2  A2  B2\n"
     ]
    }
   ],
   "source": [
    "merged_1_2 = pd.merge(df1,df2, on = \"chiave\")\n",
    "\n",
    "print(\"Merge df1-df2:\\n\",merged_1_2)"
   ]
  },
  {
   "cell_type": "code",
   "execution_count": 70,
   "metadata": {},
   "outputs": [
    {
     "data": {
      "text/html": [
       "<div>\n",
       "<style scoped>\n",
       "    .dataframe tbody tr th:only-of-type {\n",
       "        vertical-align: middle;\n",
       "    }\n",
       "\n",
       "    .dataframe tbody tr th {\n",
       "        vertical-align: top;\n",
       "    }\n",
       "\n",
       "    .dataframe thead th {\n",
       "        text-align: right;\n",
       "    }\n",
       "</style>\n",
       "<table border=\"1\" class=\"dataframe\">\n",
       "  <thead>\n",
       "    <tr style=\"text-align: right;\">\n",
       "      <th></th>\n",
       "      <th>chiave</th>\n",
       "      <th>A</th>\n",
       "      <th>B</th>\n",
       "      <th>C</th>\n",
       "    </tr>\n",
       "  </thead>\n",
       "  <tbody>\n",
       "    <tr>\n",
       "      <th>0</th>\n",
       "      <td>K1</td>\n",
       "      <td>A1</td>\n",
       "      <td>B1</td>\n",
       "      <td>C1</td>\n",
       "    </tr>\n",
       "    <tr>\n",
       "      <th>1</th>\n",
       "      <td>K2</td>\n",
       "      <td>A2</td>\n",
       "      <td>B2</td>\n",
       "      <td>C2</td>\n",
       "    </tr>\n",
       "    <tr>\n",
       "      <th>2</th>\n",
       "      <td>K4</td>\n",
       "      <td>NaN</td>\n",
       "      <td>NaN</td>\n",
       "      <td>C4</td>\n",
       "    </tr>\n",
       "  </tbody>\n",
       "</table>\n",
       "</div>"
      ],
      "text/plain": [
       "  chiave    A    B   C\n",
       "0     K1   A1   B1  C1\n",
       "1     K2   A2   B2  C2\n",
       "2     K4  NaN  NaN  C4"
      ]
     },
     "execution_count": 70,
     "metadata": {},
     "output_type": "execute_result"
    }
   ],
   "source": [
    "pd.merge(merged_1_2, df3, on=\"chiave\", how=\"right\")"
   ]
  },
  {
   "cell_type": "code",
   "execution_count": 71,
   "metadata": {},
   "outputs": [
    {
     "data": {
      "text/html": [
       "<div>\n",
       "<style scoped>\n",
       "    .dataframe tbody tr th:only-of-type {\n",
       "        vertical-align: middle;\n",
       "    }\n",
       "\n",
       "    .dataframe tbody tr th {\n",
       "        vertical-align: top;\n",
       "    }\n",
       "\n",
       "    .dataframe thead th {\n",
       "        text-align: right;\n",
       "    }\n",
       "</style>\n",
       "<table border=\"1\" class=\"dataframe\">\n",
       "  <thead>\n",
       "    <tr style=\"text-align: right;\">\n",
       "      <th></th>\n",
       "      <th>Data</th>\n",
       "      <th>Categoria</th>\n",
       "      <th>Valore</th>\n",
       "    </tr>\n",
       "  </thead>\n",
       "  <tbody>\n",
       "    <tr>\n",
       "      <th>0</th>\n",
       "      <td>2024-01</td>\n",
       "      <td>A</td>\n",
       "      <td>10</td>\n",
       "    </tr>\n",
       "    <tr>\n",
       "      <th>1</th>\n",
       "      <td>2024-01</td>\n",
       "      <td>B</td>\n",
       "      <td>20</td>\n",
       "    </tr>\n",
       "    <tr>\n",
       "      <th>2</th>\n",
       "      <td>2024-02</td>\n",
       "      <td>A</td>\n",
       "      <td>15</td>\n",
       "    </tr>\n",
       "    <tr>\n",
       "      <th>3</th>\n",
       "      <td>2024-02</td>\n",
       "      <td>B</td>\n",
       "      <td>25</td>\n",
       "    </tr>\n",
       "  </tbody>\n",
       "</table>\n",
       "</div>"
      ],
      "text/plain": [
       "      Data Categoria  Valore\n",
       "0  2024-01         A      10\n",
       "1  2024-01         B      20\n",
       "2  2024-02         A      15\n",
       "3  2024-02         B      25"
      ]
     },
     "execution_count": 71,
     "metadata": {},
     "output_type": "execute_result"
    }
   ],
   "source": [
    "#Esercizio 2: Riorganizza il DataFrame in modo che ogni categoria diventi una colonna e i valori siano distribuiti di conseguenza per ogni data.\n",
    "\n",
    "data = {\n",
    "'Data': ['2024-01', '2024-01', '2024-02', '2024-02'],\n",
    "'Categoria': ['A', 'B', 'A', 'B'],\n",
    "'Valore': [10, 20, 15, 25]\n",
    "}\n",
    "\n",
    "df = pd.DataFrame(data)\n",
    "\n",
    "df"
   ]
  },
  {
   "cell_type": "code",
   "execution_count": 72,
   "metadata": {},
   "outputs": [
    {
     "data": {
      "text/html": [
       "<div>\n",
       "<style scoped>\n",
       "    .dataframe tbody tr th:only-of-type {\n",
       "        vertical-align: middle;\n",
       "    }\n",
       "\n",
       "    .dataframe tbody tr th {\n",
       "        vertical-align: top;\n",
       "    }\n",
       "\n",
       "    .dataframe thead th {\n",
       "        text-align: right;\n",
       "    }\n",
       "</style>\n",
       "<table border=\"1\" class=\"dataframe\">\n",
       "  <thead>\n",
       "    <tr style=\"text-align: right;\">\n",
       "      <th>Categoria</th>\n",
       "      <th>A</th>\n",
       "      <th>B</th>\n",
       "    </tr>\n",
       "    <tr>\n",
       "      <th>Data</th>\n",
       "      <th></th>\n",
       "      <th></th>\n",
       "    </tr>\n",
       "  </thead>\n",
       "  <tbody>\n",
       "    <tr>\n",
       "      <th>2024-01</th>\n",
       "      <td>10</td>\n",
       "      <td>20</td>\n",
       "    </tr>\n",
       "    <tr>\n",
       "      <th>2024-02</th>\n",
       "      <td>15</td>\n",
       "      <td>25</td>\n",
       "    </tr>\n",
       "  </tbody>\n",
       "</table>\n",
       "</div>"
      ],
      "text/plain": [
       "Categoria   A   B\n",
       "Data             \n",
       "2024-01    10  20\n",
       "2024-02    15  25"
      ]
     },
     "execution_count": 72,
     "metadata": {},
     "output_type": "execute_result"
    }
   ],
   "source": [
    "pivot_df = df.pivot(index = \"Data\", columns='Categoria', values='Valore')\n",
    "\n",
    "pivot_df"
   ]
  },
  {
   "cell_type": "code",
   "execution_count": 73,
   "metadata": {},
   "outputs": [
    {
     "data": {
      "text/html": [
       "<div>\n",
       "<style scoped>\n",
       "    .dataframe tbody tr th:only-of-type {\n",
       "        vertical-align: middle;\n",
       "    }\n",
       "\n",
       "    .dataframe tbody tr th {\n",
       "        vertical-align: top;\n",
       "    }\n",
       "\n",
       "    .dataframe thead th {\n",
       "        text-align: right;\n",
       "    }\n",
       "</style>\n",
       "<table border=\"1\" class=\"dataframe\">\n",
       "  <thead>\n",
       "    <tr style=\"text-align: right;\">\n",
       "      <th></th>\n",
       "      <th>Venditore</th>\n",
       "      <th>Mese</th>\n",
       "      <th>Vendite</th>\n",
       "    </tr>\n",
       "  </thead>\n",
       "  <tbody>\n",
       "    <tr>\n",
       "      <th>0</th>\n",
       "      <td>Alice</td>\n",
       "      <td>Gennaio</td>\n",
       "      <td>200</td>\n",
       "    </tr>\n",
       "    <tr>\n",
       "      <th>1</th>\n",
       "      <td>Bob</td>\n",
       "      <td>Gennaio</td>\n",
       "      <td>150</td>\n",
       "    </tr>\n",
       "    <tr>\n",
       "      <th>2</th>\n",
       "      <td>Alice</td>\n",
       "      <td>Febbraio</td>\n",
       "      <td>300</td>\n",
       "    </tr>\n",
       "    <tr>\n",
       "      <th>3</th>\n",
       "      <td>Bob</td>\n",
       "      <td>Febbraio</td>\n",
       "      <td>250</td>\n",
       "    </tr>\n",
       "    <tr>\n",
       "      <th>4</th>\n",
       "      <td>Charlie</td>\n",
       "      <td>Gennaio</td>\n",
       "      <td>100</td>\n",
       "    </tr>\n",
       "    <tr>\n",
       "      <th>5</th>\n",
       "      <td>Alice</td>\n",
       "      <td>Gennaio</td>\n",
       "      <td>200</td>\n",
       "    </tr>\n",
       "    <tr>\n",
       "      <th>6</th>\n",
       "      <td>Bob</td>\n",
       "      <td>Gennaio</td>\n",
       "      <td>150</td>\n",
       "    </tr>\n",
       "    <tr>\n",
       "      <th>7</th>\n",
       "      <td>Alice</td>\n",
       "      <td>Febbraio</td>\n",
       "      <td>300</td>\n",
       "    </tr>\n",
       "    <tr>\n",
       "      <th>8</th>\n",
       "      <td>Bob</td>\n",
       "      <td>Febbraio</td>\n",
       "      <td>250</td>\n",
       "    </tr>\n",
       "    <tr>\n",
       "      <th>9</th>\n",
       "      <td>Charlie</td>\n",
       "      <td>Gennaio</td>\n",
       "      <td>100</td>\n",
       "    </tr>\n",
       "  </tbody>\n",
       "</table>\n",
       "</div>"
      ],
      "text/plain": [
       "  Venditore      Mese  Vendite\n",
       "0     Alice   Gennaio      200\n",
       "1       Bob   Gennaio      150\n",
       "2     Alice  Febbraio      300\n",
       "3       Bob  Febbraio      250\n",
       "4   Charlie   Gennaio      100\n",
       "5     Alice   Gennaio      200\n",
       "6       Bob   Gennaio      150\n",
       "7     Alice  Febbraio      300\n",
       "8       Bob  Febbraio      250\n",
       "9   Charlie   Gennaio      100"
      ]
     },
     "execution_count": 73,
     "metadata": {},
     "output_type": "execute_result"
    }
   ],
   "source": [
    "#Esercizio 3: Crea una tabella pivot che mostri la somma delle vendite per ogni venditore e mese.\n",
    "\n",
    "data = {\n",
    "'Venditore': ['Alice', 'Bob', 'Alice', 'Bob', 'Charlie','Alice', 'Bob', 'Alice', 'Bob', 'Charlie'],\n",
    "'Mese': ['Gennaio', 'Gennaio', 'Febbraio', 'Febbraio', 'Gennaio','Gennaio', 'Gennaio', 'Febbraio', 'Febbraio', 'Gennaio'],\n",
    "'Vendite': [200, 150, 300, 250, 100,200, 150, 300, 250, 100]\n",
    "}\n",
    "\n",
    "df = pd.DataFrame(data)\n",
    "\n",
    "df"
   ]
  },
  {
   "cell_type": "code",
   "execution_count": 74,
   "metadata": {},
   "outputs": [
    {
     "data": {
      "text/html": [
       "<div>\n",
       "<style scoped>\n",
       "    .dataframe tbody tr th:only-of-type {\n",
       "        vertical-align: middle;\n",
       "    }\n",
       "\n",
       "    .dataframe tbody tr th {\n",
       "        vertical-align: top;\n",
       "    }\n",
       "\n",
       "    .dataframe thead th {\n",
       "        text-align: right;\n",
       "    }\n",
       "</style>\n",
       "<table border=\"1\" class=\"dataframe\">\n",
       "  <thead>\n",
       "    <tr style=\"text-align: right;\">\n",
       "      <th>Mese</th>\n",
       "      <th>Febbraio</th>\n",
       "      <th>Gennaio</th>\n",
       "    </tr>\n",
       "    <tr>\n",
       "      <th>Venditore</th>\n",
       "      <th></th>\n",
       "      <th></th>\n",
       "    </tr>\n",
       "  </thead>\n",
       "  <tbody>\n",
       "    <tr>\n",
       "      <th>Alice</th>\n",
       "      <td>2.0</td>\n",
       "      <td>2.0</td>\n",
       "    </tr>\n",
       "    <tr>\n",
       "      <th>Bob</th>\n",
       "      <td>2.0</td>\n",
       "      <td>2.0</td>\n",
       "    </tr>\n",
       "    <tr>\n",
       "      <th>Charlie</th>\n",
       "      <td>NaN</td>\n",
       "      <td>2.0</td>\n",
       "    </tr>\n",
       "  </tbody>\n",
       "</table>\n",
       "</div>"
      ],
      "text/plain": [
       "Mese       Febbraio  Gennaio\n",
       "Venditore                   \n",
       "Alice           2.0      2.0\n",
       "Bob             2.0      2.0\n",
       "Charlie         NaN      2.0"
      ]
     },
     "execution_count": 74,
     "metadata": {},
     "output_type": "execute_result"
    }
   ],
   "source": [
    "pivot_df = df.pivot_table(index = \"Venditore\", columns='Mese', values='Vendite', aggfunc = \"count\")\n",
    "\n",
    "pivot_df"
   ]
  },
  {
   "cell_type": "code",
   "execution_count": 76,
   "metadata": {},
   "outputs": [
    {
     "data": {
      "text/html": [
       "<div>\n",
       "<style scoped>\n",
       "    .dataframe tbody tr th:only-of-type {\n",
       "        vertical-align: middle;\n",
       "    }\n",
       "\n",
       "    .dataframe tbody tr th {\n",
       "        vertical-align: top;\n",
       "    }\n",
       "\n",
       "    .dataframe thead th {\n",
       "        text-align: right;\n",
       "    }\n",
       "</style>\n",
       "<table border=\"1\" class=\"dataframe\">\n",
       "  <thead>\n",
       "    <tr style=\"text-align: right;\">\n",
       "      <th>Mese</th>\n",
       "      <th>Febbraio</th>\n",
       "      <th>Gennaio</th>\n",
       "    </tr>\n",
       "    <tr>\n",
       "      <th>Venditore</th>\n",
       "      <th></th>\n",
       "      <th></th>\n",
       "    </tr>\n",
       "  </thead>\n",
       "  <tbody>\n",
       "    <tr>\n",
       "      <th>Alice</th>\n",
       "      <td>600.0</td>\n",
       "      <td>400.0</td>\n",
       "    </tr>\n",
       "    <tr>\n",
       "      <th>Bob</th>\n",
       "      <td>500.0</td>\n",
       "      <td>300.0</td>\n",
       "    </tr>\n",
       "    <tr>\n",
       "      <th>Charlie</th>\n",
       "      <td>NaN</td>\n",
       "      <td>200.0</td>\n",
       "    </tr>\n",
       "  </tbody>\n",
       "</table>\n",
       "</div>"
      ],
      "text/plain": [
       "Mese       Febbraio  Gennaio\n",
       "Venditore                   \n",
       "Alice         600.0    400.0\n",
       "Bob           500.0    300.0\n",
       "Charlie         NaN    200.0"
      ]
     },
     "execution_count": 76,
     "metadata": {},
     "output_type": "execute_result"
    }
   ],
   "source": [
    "pivot_df = df.pivot_table(index = \"Venditore\", columns='Mese', values='Vendite', aggfunc = \"sum\")\n",
    "\n",
    "pivot_df\n"
   ]
  },
  {
   "cell_type": "code",
   "execution_count": 77,
   "metadata": {},
   "outputs": [
    {
     "name": "stdout",
     "output_type": "stream",
     "text": [
      "   Regione Prodotto  Vendite\n",
      "0     Nord        A      100\n",
      "1      Sud        A      150\n",
      "2     Nord        B      200\n",
      "3      Est        B      250\n",
      "4    Ovest        A      300\n",
      "5      Sud        B      350\n",
      "6      Est        A      400\n",
      "7     Nord        B      180\n",
      "8    Ovest        B      260\n",
      "9      Sud        A      220\n",
      "10    Nord        A      130\n",
      "11     Est        B      310\n",
      "12     Sud        A      170\n"
     ]
    }
   ],
   "source": [
    "data = {\n",
    "'Regione': [\n",
    "'Nord', 'Sud', 'Nord', 'Est', 'Ovest', 'Sud',\n",
    "'Est', 'Nord', 'Ovest', 'Sud', 'Nord', 'Est', 'Sud'\n",
    "],\n",
    "'Prodotto': [\n",
    "'A', 'A', 'B', 'B', 'A', 'B',\n",
    "'A', 'B', 'B', 'A', 'A', 'B', 'A'\n",
    "],\n",
    "'Vendite': [\n",
    "100, 150, 200, 250, 300, 350,\n",
    "400, 180, 260, 220, 130, 310, 170\n",
    "]\n",
    "}\n",
    "\n",
    "df = pd.DataFrame(data)\n",
    "print(df)"
   ]
  },
  {
   "cell_type": "code",
   "execution_count": 79,
   "metadata": {},
   "outputs": [
    {
     "name": "stdout",
     "output_type": "stream",
     "text": [
      "Prodotto    A    B\n",
      "Regione           \n",
      "Est       400  560\n",
      "Nord      230  380\n",
      "Ovest     300  260\n",
      "Sud       540  350\n"
     ]
    }
   ],
   "source": [
    "pivot_sum = df.pivot_table(values = \"Vendite\", index = \"Regione\", columns = \"Prodotto\", aggfunc = \"sum\", fill_value = 0)\n",
    "\n",
    "print(pivot_sum)"
   ]
  },
  {
   "cell_type": "code",
   "execution_count": 82,
   "metadata": {},
   "outputs": [
    {
     "name": "stdout",
     "output_type": "stream",
     "text": [
      "          max       min     \n",
      "Prodotto    A    B    A    B\n",
      "Regione                     \n",
      "Est       400  310  400  250\n",
      "Nord      130  200  100  180\n",
      "Ovest     300  260  300  260\n",
      "Sud       220  350  150  350\n"
     ]
    }
   ],
   "source": [
    "pivot_multi = df.pivot_table(values = \"Vendite\", index = \"Regione\", columns = \"Prodotto\", aggfunc = [\"max\",\"min\"], fill_value = 0)\n",
    "\n",
    "print(pivot_multi)"
   ]
  },
  {
   "cell_type": "code",
   "execution_count": 81,
   "metadata": {},
   "outputs": [
    {
     "name": "stdout",
     "output_type": "stream",
     "text": [
      "Prodotto   A   B\n",
      "Regione         \n",
      "Est        0  60\n",
      "Nord      30  20\n",
      "Ovest      0   0\n",
      "Sud       70   0\n"
     ]
    }
   ],
   "source": [
    "def range_vendite(x):\n",
    "    return x.max()-x.min()\n",
    "\n",
    "pivot_custom = df.pivot_table(values = \"Vendite\", index = \"Regione\", columns = \"Prodotto\", aggfunc = range_vendite, fill_value = 0)\n",
    "\n",
    "print(pivot_custom)"
   ]
  },
  {
   "cell_type": "code",
   "execution_count": 86,
   "metadata": {},
   "outputs": [
    {
     "data": {
      "text/html": [
       "<div>\n",
       "<style scoped>\n",
       "    .dataframe tbody tr th:only-of-type {\n",
       "        vertical-align: middle;\n",
       "    }\n",
       "\n",
       "    .dataframe tbody tr th {\n",
       "        vertical-align: top;\n",
       "    }\n",
       "\n",
       "    .dataframe thead th {\n",
       "        text-align: right;\n",
       "    }\n",
       "</style>\n",
       "<table border=\"1\" class=\"dataframe\">\n",
       "  <thead>\n",
       "    <tr style=\"text-align: right;\">\n",
       "      <th></th>\n",
       "      <th>Regione</th>\n",
       "      <th>Prodotto</th>\n",
       "      <th>Vendite</th>\n",
       "    </tr>\n",
       "  </thead>\n",
       "  <tbody>\n",
       "    <tr>\n",
       "      <th>0</th>\n",
       "      <td>Nord</td>\n",
       "      <td>A</td>\n",
       "      <td>100</td>\n",
       "    </tr>\n",
       "    <tr>\n",
       "      <th>1</th>\n",
       "      <td>Sud</td>\n",
       "      <td>A</td>\n",
       "      <td>150</td>\n",
       "    </tr>\n",
       "    <tr>\n",
       "      <th>2</th>\n",
       "      <td>Nord</td>\n",
       "      <td>B</td>\n",
       "      <td>200</td>\n",
       "    </tr>\n",
       "    <tr>\n",
       "      <th>3</th>\n",
       "      <td>Est</td>\n",
       "      <td>B</td>\n",
       "      <td>250</td>\n",
       "    </tr>\n",
       "    <tr>\n",
       "      <th>4</th>\n",
       "      <td>Ovest</td>\n",
       "      <td>A</td>\n",
       "      <td>300</td>\n",
       "    </tr>\n",
       "    <tr>\n",
       "      <th>5</th>\n",
       "      <td>Sud</td>\n",
       "      <td>B</td>\n",
       "      <td>350</td>\n",
       "    </tr>\n",
       "    <tr>\n",
       "      <th>6</th>\n",
       "      <td>Est</td>\n",
       "      <td>A</td>\n",
       "      <td>400</td>\n",
       "    </tr>\n",
       "    <tr>\n",
       "      <th>7</th>\n",
       "      <td>Ovest</td>\n",
       "      <td>B</td>\n",
       "      <td>450</td>\n",
       "    </tr>\n",
       "    <tr>\n",
       "      <th>8</th>\n",
       "      <td>Nord</td>\n",
       "      <td>A</td>\n",
       "      <td>200</td>\n",
       "    </tr>\n",
       "    <tr>\n",
       "      <th>9</th>\n",
       "      <td>Sud</td>\n",
       "      <td>A</td>\n",
       "      <td>130</td>\n",
       "    </tr>\n",
       "    <tr>\n",
       "      <th>10</th>\n",
       "      <td>Nord</td>\n",
       "      <td>B</td>\n",
       "      <td>170</td>\n",
       "    </tr>\n",
       "    <tr>\n",
       "      <th>11</th>\n",
       "      <td>Est</td>\n",
       "      <td>B</td>\n",
       "      <td>110</td>\n",
       "    </tr>\n",
       "    <tr>\n",
       "      <th>12</th>\n",
       "      <td>Ovest</td>\n",
       "      <td>A</td>\n",
       "      <td>220</td>\n",
       "    </tr>\n",
       "    <tr>\n",
       "      <th>13</th>\n",
       "      <td>Sud</td>\n",
       "      <td>B</td>\n",
       "      <td>330</td>\n",
       "    </tr>\n",
       "    <tr>\n",
       "      <th>14</th>\n",
       "      <td>Est</td>\n",
       "      <td>A</td>\n",
       "      <td>410</td>\n",
       "    </tr>\n",
       "    <tr>\n",
       "      <th>15</th>\n",
       "      <td>Ovest</td>\n",
       "      <td>B</td>\n",
       "      <td>400</td>\n",
       "    </tr>\n",
       "  </tbody>\n",
       "</table>\n",
       "</div>"
      ],
      "text/plain": [
       "   Regione Prodotto  Vendite\n",
       "0     Nord        A      100\n",
       "1      Sud        A      150\n",
       "2     Nord        B      200\n",
       "3      Est        B      250\n",
       "4    Ovest        A      300\n",
       "5      Sud        B      350\n",
       "6      Est        A      400\n",
       "7    Ovest        B      450\n",
       "8     Nord        A      200\n",
       "9      Sud        A      130\n",
       "10    Nord        B      170\n",
       "11     Est        B      110\n",
       "12   Ovest        A      220\n",
       "13     Sud        B      330\n",
       "14     Est        A      410\n",
       "15   Ovest        B      400"
      ]
     },
     "execution_count": 86,
     "metadata": {},
     "output_type": "execute_result"
    }
   ],
   "source": [
    "#Esercizio: mostrare la media delle vendite di ogni combinazione di Regione e Prodotto\n",
    "\n",
    "data = {\n",
    "'Regione': ['Nord', 'Sud', 'Nord', 'Est', 'Ovest', 'Sud', 'Est', 'Ovest', 'Nord', 'Sud', 'Nord', 'Est', 'Ovest', 'Sud', 'Est', 'Ovest'],\n",
    "'Prodotto': ['A', 'A', 'B', 'B', 'A', 'B', 'A', 'B', 'A', 'A', 'B', 'B', 'A', 'B', 'A', 'B'],\n",
    "'Vendite': [100, 150, 200, 250, 300, 350, 400, 450, 200, 130, 170, 110, 220, 330, 410, 400]\n",
    "}\n",
    "\n",
    "df = pd.DataFrame(data)\n",
    "df"
   ]
  },
  {
   "cell_type": "code",
   "execution_count": 87,
   "metadata": {},
   "outputs": [
    {
     "name": "stdout",
     "output_type": "stream",
     "text": [
      "Prodotto      A      B\n",
      "Regione               \n",
      "Est       405.0  180.0\n",
      "Nord      150.0  185.0\n",
      "Ovest     260.0  425.0\n",
      "Sud       140.0  340.0\n"
     ]
    }
   ],
   "source": [
    "pivot_sum = df.pivot_table(values = \"Vendite\", index = \"Regione\", columns = \"Prodotto\", aggfunc = \"mean\", fill_value = 0)\n",
    "\n",
    "print(pivot_sum)"
   ]
  },
  {
   "cell_type": "code",
   "execution_count": 93,
   "metadata": {},
   "outputs": [
    {
     "name": "stdout",
     "output_type": "stream",
     "text": [
      "             var           mean       \n",
      "Prodotto       A       B      A      B\n",
      "Regione                               \n",
      "Est         50.0  9800.0  405.0  180.0\n",
      "Nord      5000.0   450.0  150.0  185.0\n",
      "Ovest     3200.0  1250.0  260.0  425.0\n",
      "Sud        200.0   200.0  140.0  340.0\n"
     ]
    },
    {
     "name": "stderr",
     "output_type": "stream",
     "text": [
      "C:\\Users\\stefano\\AppData\\Local\\Temp\\ipykernel_16928\\248431190.py:1: FutureWarning: The provided callable <function var at 0x0000024D1959B240> is currently using DataFrameGroupBy.var. In a future version of pandas, the provided callable will be used directly. To keep current behavior pass the string \"var\" instead.\n",
      "  pivot_var = df.pivot_table(values = \"Vendite\", index = \"Regione\", columns = \"Prodotto\", aggfunc = [np.var, \"mean\"], fill_value = 0)\n"
     ]
    }
   ],
   "source": [
    "pivot_var = df.pivot_table(values = \"Vendite\", index = \"Regione\", columns = \"Prodotto\", aggfunc = [np.var, \"mean\"], fill_value = 0)\n",
    "\n",
    "print(pivot_var)"
   ]
  },
  {
   "cell_type": "code",
   "execution_count": 89,
   "metadata": {},
   "outputs": [
    {
     "name": "stdout",
     "output_type": "stream",
     "text": [
      "Prodotto       A       B\n",
      "Regione                 \n",
      "Est         50.0  9800.0\n",
      "Nord      5000.0   450.0\n",
      "Ovest     3200.0  1250.0\n",
      "Sud        200.0   200.0\n"
     ]
    }
   ],
   "source": [
    "pivot_var = df.pivot_table(values = \"Vendite\", index = \"Regione\", columns = \"Prodotto\", aggfunc = \"var\", fill_value = 0)\n",
    "\n",
    "print(pivot_var)"
   ]
  }
 ],
 "metadata": {
  "kernelspec": {
   "display_name": "Python 3",
   "language": "python",
   "name": "python3"
  },
  "language_info": {
   "codemirror_mode": {
    "name": "ipython",
    "version": 3
   },
   "file_extension": ".py",
   "mimetype": "text/x-python",
   "name": "python",
   "nbconvert_exporter": "python",
   "pygments_lexer": "ipython3",
   "version": "3.13.0"
  }
 },
 "nbformat": 4,
 "nbformat_minor": 2
}
